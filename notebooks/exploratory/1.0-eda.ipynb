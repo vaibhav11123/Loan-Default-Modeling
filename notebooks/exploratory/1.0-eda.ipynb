{
 "cells": [
  {
   "cell_type": "raw",
   "metadata": {
    "vscode": {
     "languageId": "raw"
    }
   },
   "source": [
    "# Loan Default Prediction - Exploratory Data Analysis\n",
    "\n",
    "This notebook performs an in-depth exploratory data analysis of the loan default dataset. The analysis includes:\n",
    "\n",
    "1. Data Overview and Validation\n",
    "2. Missing Value Analysis\n",
    "3. Interactive Visualizations\n",
    "4. Statistical Tests\n",
    "5. Outlier and Anomaly Detection\n",
    "6. Temporal Analysis\n",
    "7. Feature Interactions\n",
    "8. Categorical Analysis\n",
    "9. Fairness Analysis\n",
    "10. Summary Statistics\n"
   ]
  },
  {
   "cell_type": "code",
   "execution_count": null,
   "metadata": {},
   "outputs": [],
   "source": [
    "# Import libraries\n",
    "import pandas as pd\n",
    "import plotly.express as px\n",
    "from scipy.stats import zscore, ttest_ind\n",
    "from sklearn.ensemble import IsolationForest\n",
    "\n",
    "# Reusable Plotting Function\n",
    "def save_plot(fig, filename):\n",
    "    fig.write_to_html(f'reports/figures/{filename}.html')\n",
    "    fig.write_image(f'reports/figures/{filename}.png')\n",
    "    fig.show()\n",
    "\n",
    "# Load dataset\n",
    "df = pd.read_csv('data/raw/loan_data.csv')\n"
   ]
  },
  {
   "cell_type": "code",
   "execution_count": null,
   "metadata": {},
   "outputs": [],
   "source": [
    "# --- 0. Safe Column Access and Sampling ---\n",
    "print(\"=== Sampling and Validation ===\")\n",
    "required_cols = ['Credit_Score', 'dtir1', 'loan_amount', 'LTV', 'Status', 'year', 'Region', 'loan_purpose', 'Gender']\n",
    "try:\n",
    "    missing_cols = [col for col in required_cols if col not in df.columns]\n",
    "    if missing_cols:\n",
    "        raise KeyError(f\"Missing columns: {missing_cols}\")\n",
    "    if len(df) > 50000:\n",
    "        df = df.sample(50000, random_state=42)\n",
    "        print(\"Sampled 50,000 rows for performance\")\n",
    "except KeyError as e:\n",
    "    print(e)\n",
    "    raise\n",
    "\n",
    "# --- 1. Data Overview ---\n",
    "print(\"\\n=== Data Overview ===\")\n",
    "print(\"Shape:\", df.shape)\n",
    "print(\"\\nColumns:\", df.columns.tolist())\n",
    "print(\"\\nFirst 5 rows:\\n\", df.head())\n",
    "print(\"\\nData Types:\\n\", df.dtypes)\n",
    "print(\"\\nDefault Rate:\\n\", df['Status'].value_counts(normalize=True))\n"
   ]
  },
  {
   "cell_type": "code",
   "execution_count": null,
   "metadata": {},
   "outputs": [],
   "source": [
    "# --- 2. Missing Values ---\n",
    "print(\"\\n=== Missing Values ===\")\n",
    "missing = df.isnull().sum()\n",
    "missing_pct = (missing / len(df)) * 100\n",
    "print(\"Missing Values:\\n\", missing[missing > 0])\n",
    "print(\"\\nMissing Percentages:\\n\", missing_pct[missing_pct > 0])\n"
   ]
  },
  {
   "cell_type": "code",
   "execution_count": null,
   "metadata": {},
   "outputs": [],
   "source": [
    "# --- 3. Interactive Visualizations ---\n",
    "print(\"\\n=== Interactive Visualizations ===\")\n",
    "# Credit Score Histogram with Facets\n",
    "fig = px.histogram(df, x='Credit_Score', nbins=30, title='Credit Score Distribution by Region',\n",
    "                   color='Status', facet_col='Region', marginal='box')\n",
    "fig.update_layout(showlegend=True, bargap=0.1, title_font_size=20)\n",
    "fig.update_xaxes(title_text='Credit Score', title_font_size=14)\n",
    "fig.update_yaxes(title_text='Count', title_font_size=14)\n",
    "fig.add_annotation(text='Lower scores correlate with higher defaults', x=600, y=5000, showarrow=True)\n",
    "save_plot(fig, 'credit_score_dist')\n",
    "\n",
    "# DTI Boxplot\n",
    "fig_box = px.box(df, x='Status', y='dtir1', title='DTI by Default Status',\n",
    "                 color='Status', points='suspectedoutliers', notched=True,\n",
    "                 color_discrete_map={0: '#1f77b4', 1: '#ff7f0e'})\n",
    "fig_box.update_layout(showlegend=True, title_font_size=20)\n",
    "save_plot(fig_box, 'dti_by_default')\n"
   ]
  },
  {
   "cell_type": "code",
   "execution_count": null,
   "metadata": {},
   "outputs": [],
   "source": [
    "# --- 4. Statistical Test ---\n",
    "print(\"\\n=== T-Test: DTI by Default Status ===\")\n",
    "dti_default = df[df['Status'] == 1]['dtir1'].dropna()\n",
    "dti_non_default = df[df['Status'] == 0]['dtir1'].dropna()\n",
    "t_stat, p_value = ttest_ind(dti_default, dti_non_default)\n",
    "print(f\"T-Statistic: {t_stat:.2f}, P-Value: {p_value:.4f}\")\n",
    "print(\"Interpretation: Significant difference\" if p_value < 0.05 else \"No significant difference\")\n"
   ]
  },
  {
   "cell_type": "code",
   "execution_count": null,
   "metadata": {},
   "outputs": [],
   "source": [
    "# --- 5. Outlier and Anomaly Detection ---\n",
    "print(\"\\n=== Outlier Detection ===\")\n",
    "df['loan_amount_z'] = zscore(df['loan_amount'])\n",
    "outliers = df[df['loan_amount_z'].abs() > 3]\n",
    "print(\"Number of Outliers:\", len(outliers))\n",
    "print(\"\\nOutlier Summary:\\n\", outliers[['ID', 'loan_amount', 'Credit_Score', 'Status']].head())\n",
    "outlier_default_rate = outliers['Status'].mean()\n",
    "print(f\"Default Rate for Outliers: {outlier_default_rate:.2%}\")\n",
    "\n",
    "# Scatter Plot for Outliers\n",
    "fig = px.scatter(df, x='loan_amount', y='Credit_Score', color='Status',\n",
    "                 title='Loan Amount vs. Credit Score with Outliers',\n",
    "                 hover_data=['ID', 'dtir1'])\n",
    "fig.add_scatter(x=outliers['loan_amount'], y=outliers['Credit_Score'],\n",
    "                mode='markers', marker=dict(size=10, color='red', symbol='x'),\n",
    "                name='Outliers')\n",
    "fig.update_layout(showlegend=True, title_font_size=20)\n",
    "save_plot(fig, 'outliers')\n",
    "\n",
    "# Anomaly Detection\n",
    "print(\"\\n=== Anomaly Detection ===\")\n",
    "features = ['loan_amount', 'Credit_Score', 'dtir1']\n",
    "iso_forest = IsolationForest(contamination=0.05, random_state=42)\n",
    "df['anomaly'] = iso_forest.fit_predict(df[features].dropna())\n",
    "anomalies = df[df['anomaly'] == -1]\n",
    "print(\"Number of Anomalies:\", len(anomalies))\n",
    "print(\"Anomaly Default Rate:\", anomalies['Status'].mean())\n",
    "fig = px.scatter(df, x='loan_amount', y='Credit_Score', color='anomaly',\n",
    "                 title='Anomalies in Loan Amount vs. Credit Score',\n",
    "                 hover_data=['ID', 'dtir1'])\n",
    "save_plot(fig, 'anomalies')\n"
   ]
  },
  {
   "cell_type": "code",
   "execution_count": null,
   "metadata": {},
   "outputs": [],
   "source": [
    "# --- 6. Temporal Analysis ---\n",
    "print(\"\\n=== Temporal Analysis ===\")\n",
    "yearly_defaults = df.groupby('year')['Status'].mean().reset_index()\n",
    "print(\"Yearly Default Rates:\\n\", yearly_defaults)\n",
    "fig = px.line(yearly_defaults, x='year', y='Status', title='Default Rate by Year',\n",
    "              markers=True, line_shape='spline')\n",
    "fig.update_layout(showlegend=False, xaxis_title='Year', yaxis_title='Default Rate', title_font_size=20)\n",
    "save_plot(fig, 'yearly_defaults')\n"
   ]
  },
  {
   "cell_type": "code",
   "execution_count": null,
   "metadata": {},
   "outputs": [],
   "source": [
    "# --- 7. Feature Interaction Heatmaps ---\n",
    "print(\"\\n=== Feature Interaction Heatmaps ===\")\n",
    "defaulted = df[df['Status'] == 1][['Credit_Score', 'dtir1', 'loan_amount', 'LTV']]\n",
    "print(\"Defaulted Loans Shape:\", defaulted.shape)\n",
    "corr_matrix = defaulted.corr()\n",
    "fig = px.imshow(corr_matrix, title='Correlation Heatmap (Defaulted Loans)',\n",
    "                color_continuous_scale='Viridis', text_auto='.2f')\n",
    "fig.update_layout(width=600, height=600, title_font_size=20)\n",
    "save_plot(fig, 'corr_defaulted')\n",
    "\n",
    "# Pair Plot\n",
    "fig = px.scatter_matrix(df, dimensions=['Credit_Score', 'dtir1', 'loan_amount', 'LTV'],\n",
    "                        color='Status', title='Pair Plot of Key Features')\n",
    "fig.update_layout(title_font_size=20, width=800, height=800)\n",
    "save_plot(fig, 'pair_plot')\n"
   ]
  },
  {
   "cell_type": "code",
   "execution_count": null,
   "metadata": {},
   "outputs": [],
   "source": [
    "# --- 8. Categorical Analysis ---\n",
    "print(\"\\n=== Categorical Analysis ===\")\n",
    "purpose_defaults = df.groupby('loan_purpose')['Status'].mean().reset_index()\n",
    "fig = px.bar(purpose_defaults, x='loan_purpose', y='Status',\n",
    "             title='Default Rates by Loan Purpose', color='Status',\n",
    "             text_auto='.2%')\n",
    "fig.update_layout(title_font_size=20, xaxis_title='Loan Purpose', yaxis_title='Default Rate')\n",
    "save_plot(fig, 'purpose_defaults')\n"
   ]
  },
  {
   "cell_type": "code",
   "execution_count": null,
   "metadata": {},
   "outputs": [],
   "source": [
    "# --- 9. Fairness Analysis ---\n",
    "print(\"\\n=== Fairness Analysis ===\")\n",
    "gender_defaults = df.groupby('Gender')['Status'].mean()\n",
    "print(\"Default Rates by Gender:\\n\", gender_defaults)\n",
    "disparate_impact = gender_defaults['Male'] / gender_defaults['Female']\n",
    "print(f\"Disparate Impact (Male/Female): {disparate_impact:.2f}\")\n",
    "print(\"Note: Values far from 1.0 may indicate bias\")\n"
   ]
  },
  {
   "cell_type": "code",
   "execution_count": null,
   "metadata": {},
   "outputs": [],
   "source": [
    "# --- 10. Export Summary ---\n",
    "print(\"\\n=== Summary Statistics ===\")\n",
    "summary = df[['Credit_Score', 'dtir1', 'loan_amount', 'LTV']].describe()\n",
    "summary.to_csv('reports/summary_stats.csv')\n",
    "print(summary)\n"
   ]
  },
  {
   "cell_type": "raw",
   "metadata": {
    "vscode": {
     "languageId": "raw"
    }
   },
   "source": [
    "# Loan Default Prediction - Exploratory Data Analysis\n",
    "\n",
    "This notebook performs exploratory data analysis on the loan default dataset to understand:\n",
    "1. Data structure and quality\n",
    "2. Feature distributions and relationships\n",
    "3. Missing values and outliers\n",
    "4. Target variable distribution and balance\n",
    "5. Key insights for feature engineering\n",
    "\n",
    "## Setup and Data Loading\n"
   ]
  },
  {
   "cell_type": "code",
   "execution_count": null,
   "metadata": {},
   "outputs": [],
   "source": [
    "# Import required libraries\n",
    "import pandas as pd\n",
    "import numpy as np\n",
    "import matplotlib.pyplot as plt\n",
    "import seaborn as sns\n",
    "\n",
    "# Set display options\n",
    "pd.set_option('display.max_columns', None)\n",
    "pd.set_option('display.max_rows', 100)\n",
    "\n",
    "# Set style for visualizations\n",
    "plt.style.use('seaborn')\n",
    "sns.set_palette(\"husl\")\n",
    "\n",
    "# Read the dataset\n",
    "df = pd.read_csv('../../data/raw/loan_data.csv')\n",
    "\n",
    "# Display basic information about the dataset\n",
    "print(\"Dataset Shape:\", df.shape)\n",
    "print(\"\\nFirst few rows:\")\n",
    "display(df.head())\n",
    "print(\"\\nDataset Info:\")\n",
    "df.info()\n"
   ]
  }
 ],
 "metadata": {
  "language_info": {
   "name": "python"
  }
 },
 "nbformat": 4,
 "nbformat_minor": 2
}
